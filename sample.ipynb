{
 "cells": [
  {
   "cell_type": "markdown",
   "id": "af7c70de-d360-4753-9a52-09f4884b914b",
   "metadata": {},
   "source": [
    "#### hello"
   ]
  },
  {
   "cell_type": "code",
   "execution_count": null,
   "id": "24d3baaf-3ea6-4b53-a802-9de23015ee16",
   "metadata": {},
   "outputs": [],
   "source": []
  },
  {
   "cell_type": "code",
   "execution_count": null,
   "id": "f49d4ed1-61f0-43ef-9547-b6763cfc25f6",
   "metadata": {},
   "outputs": [],
   "source": []
  },
  {
   "cell_type": "markdown",
   "id": "42a1ada5-f5f9-4867-9301-5b413c143854",
   "metadata": {},
   "source": [
    "# Sample notebook"
   ]
  },
  {
   "cell_type": "markdown",
   "id": "85bc1e73-0c0d-4cc2-b2f3-aa5d4f391165",
   "metadata": {},
   "source": [
    "`1+1`"
   ]
  },
  {
   "cell_type": "code",
   "execution_count": null,
   "id": "4dc4bb6b-ba7d-4de4-8f64-93c626aacbc7",
   "metadata": {},
   "outputs": [],
   "source": []
  },
  {
   "cell_type": "code",
   "execution_count": null,
   "id": "2c80fb64-379b-467d-a1b3-ab26f40c5318",
   "metadata": {},
   "outputs": [],
   "source": []
  }
 ],
 "metadata": {
  "kernelspec": {
   "display_name": "Python 3 (ipykernel)",
   "language": "python",
   "name": "python3"
  },
  "language_info": {
   "codemirror_mode": {
    "name": "ipython",
    "version": 3
   },
   "file_extension": ".py",
   "mimetype": "text/x-python",
   "name": "python",
   "nbconvert_exporter": "python",
   "pygments_lexer": "ipython3",
   "version": "3.10.12"
  }
 },
 "nbformat": 4,
 "nbformat_minor": 5
}
